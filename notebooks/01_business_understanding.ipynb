{
 "cells": [
  {
   "cell_type": "markdown",
   "id": "99985c79",
   "metadata": {},
   "source": [
    "# Fase 1: Comprensión del Negocio\n",
    "\n",
    "### Hipótesis / Objetivo de negocio\n",
    "Analizar el comportamiento de compra de clientes para identificar patrones en categorías de productos y segmentación por género, con el fin de optimizar estrategias de marketing y fidelización.\n",
    "\n",
    "### Evaluación de la situación actual\n",
    "**Disponibilidad:**\n",
    "- `customer_profile_dataset.csv`: información demográfica y de registro de clientes.\n",
    "- `products_dataset.csv`: catálogo de productos con categoría y precio.\n",
    "- `purchase_history_dataset.csv`: historial de compras con fechas y montos.\n",
    "\n",
    "**Volumen esperado:**\n",
    "- Clientes: ~1000 registros.\n",
    "- Productos: ~500 registros.\n",
    "- Compras: miles de transacciones.\n",
    "\n",
    "**Riesgos:**\n",
    "- Valores nulos en datos demográficos.\n",
    "- Posibles inconsistencias en precios o cantidades.\n",
    "- Fechas fuera de rango.\n",
    "\n",
    "**Supuestos clave:**\n",
    "- `customer_id` y `product_id` son llaves únicas y consistentes entre datasets.\n",
    "\n",
    "### Objetivos de Machine Learning (a futuro)\n",
    "- Predecir probabilidad de recompra por cliente.\n",
    "- Recomendar productos basados en historial y perfil.\n",
    "\n",
    "### Plan del proyecto\n",
    "- Recolección de datos iniciales (3 CSV).\n",
    "- Análisis exploratorio (EDA) para entender distribución de variables.\n",
    "- Verificación de calidad (nulos, duplicados, outliers).\n",
    "- Preparación de datos:\n",
    "  - Normalización de precios.\n",
    "  - Creación de variables derivadas (ej. antigüedad del cliente, gasto promedio).\n"
   ]
  }
 ],
 "metadata": {
  "kernelspec": {
   "display_name": "Python 3",
   "language": "python",
   "name": "python3"
  },
  "language_info": {
   "codemirror_mode": {
    "name": "ipython",
    "version": 3
   },
   "file_extension": ".py",
   "mimetype": "text/x-python",
   "name": "python",
   "nbconvert_exporter": "python",
   "pygments_lexer": "ipython3",
   "version": "3.12.10"
  }
 },
 "nbformat": 4,
 "nbformat_minor": 5
}
